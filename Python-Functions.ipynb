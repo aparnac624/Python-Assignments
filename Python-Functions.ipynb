{
 "cells": [
  {
   "cell_type": "code",
   "execution_count": 1,
   "id": "43b1d5e3-9838-4c54-8c5a-87e8ef02b491",
   "metadata": {},
   "outputs": [
    {
     "name": "stdout",
     "output_type": "stream",
     "text": [
      "Length of list:  6\n"
     ]
    }
   ],
   "source": [
    "# len() function in Python returns the number of items/elements in an object such as list, tuple etc\n",
    "# example of len() function\n",
    "list1 = [2,8,9,10,24,7]\n",
    "print(\"Length of list: \", len(list1))"
   ]
  },
  {
   "cell_type": "code",
   "execution_count": 2,
   "id": "d0d401e6-0629-42b0-99ea-d019ce1b6dda",
   "metadata": {},
   "outputs": [
    {
     "name": "stdin",
     "output_type": "stream",
     "text": [
      "Enter the name : Arun\n"
     ]
    },
    {
     "name": "stdout",
     "output_type": "stream",
     "text": [
      "Hello, Arun!\n"
     ]
    }
   ],
   "source": [
    "# a Python function greet(name) that takes a person's name as input and prints \"Hello, [name]!.\"\n",
    "name = input(\"Enter the name :\")\n",
    "def greet(name):\n",
    "     print(f\"Hello, {name}!\")\n",
    "           \n",
    "greet(name)"
   ]
  },
  {
   "cell_type": "code",
   "execution_count": 3,
   "id": "b3a41e20-00de-4be7-8453-39b5e26af7ed",
   "metadata": {},
   "outputs": [
    {
     "name": "stdout",
     "output_type": "stream",
     "text": [
      "Largest number is:  60\n"
     ]
    }
   ],
   "source": [
    "# a Python function find_maximum(numbers) that takes a list of integers and returns the maximum value without using the built-in max() function.\n",
    "# Use a loop to iterate through the list and compare values.\n",
    "def find_maximum(numbers):\n",
    "        max = numbers[0]\n",
    "        for i in numbers:\n",
    "           if( i > max):\n",
    "               max = i\n",
    "        return max\n",
    "\n",
    "numbers = [10,20,30,40,50,60]\n",
    "largest_number = find_maximum(numbers)\n",
    "print(\"Largest number is: \", largest_number)"
   ]
  },
  {
   "cell_type": "code",
   "execution_count": 4,
   "id": "f5c4c8b6-c575-41d4-ad62-4b8169e6b656",
   "metadata": {},
   "outputs": [
    {
     "name": "stdout",
     "output_type": "stream",
     "text": [
      "Inside function - local variable =  5\n",
      "Outside function - global variable =  10\n"
     ]
    }
   ],
   "source": [
    "# Explain the difference between local and global variables in a Python function.\n",
    "# Global variables : are defined outside any function and can be accessed anywhere in the program. If we want to modify a global variable inside a function, we must explicitly declare it using the global keyword.\n",
    "# Local variables : are defined inside a function and can only be accessed inside that function. If a local variable has same name as a global variable, changes made in the local variable will not affect the global variable of same name.\n",
    "\n",
    "# example and explanation of local and global variables\n",
    "# a program where a global variable and a local variable have the same name and show how Python differentiates between them.\n",
    "n = 10          # global variable\n",
    "def sample():\n",
    "       n = 5       # local variable with the same name as global variable. Assigning n as 5 will not affect the global variable value \n",
    "       print(\"Inside function - local variable = \", n)       # output as 5 \n",
    "\n",
    "sample()\n",
    "print(\"Outside function - global variable = \", n)        # output as 10 ( global variable value remains unchanged )"
   ]
  },
  {
   "cell_type": "code",
   "execution_count": null,
   "id": "76099a27-3aad-4f14-8727-51e71e9469ef",
   "metadata": {},
   "outputs": [],
   "source": [
    "# a function calculate_area(length, width=5) that calculates the area of a rectangle. \n",
    "# If only the length is provided, the function should assume the width is 5. \n",
    "# Show how the function behaves when called with and without the width argument.\n",
    "def calculate_area(length, width=5):\n",
    "       return length*width\n",
    "\n",
    "print(\"Area of rectangle (without width argument): \", calculate_area(10))        # default width is taken as 5\n",
    "print(\"Area of rectangle (with width argument): \", calculate_area(10,20))        # here width is taken as 20 which is the argument being passed "
   ]
  },
  {
   "cell_type": "code",
   "execution_count": null,
   "id": "2bc4466f-383f-40cf-9c32-533a4776ec81",
   "metadata": {},
   "outputs": [],
   "source": []
  },
  {
   "cell_type": "code",
   "execution_count": null,
   "id": "47257fc5-23cf-4db8-aa4e-34a4a78e9609",
   "metadata": {},
   "outputs": [],
   "source": []
  },
  {
   "cell_type": "code",
   "execution_count": null,
   "id": "106a3494-623a-455a-85cc-586929979030",
   "metadata": {},
   "outputs": [],
   "source": []
  },
  {
   "cell_type": "code",
   "execution_count": null,
   "id": "1eda42ea-22d3-437e-bc97-06402acbf281",
   "metadata": {},
   "outputs": [],
   "source": []
  },
  {
   "cell_type": "code",
   "execution_count": null,
   "id": "0e610c58-48c8-4ca4-ba0b-d53f9a77fbc0",
   "metadata": {},
   "outputs": [],
   "source": []
  },
  {
   "cell_type": "code",
   "execution_count": null,
   "id": "6f087150-8660-45c3-8aa6-02561225184f",
   "metadata": {},
   "outputs": [],
   "source": []
  },
  {
   "cell_type": "code",
   "execution_count": null,
   "id": "f40422b3-2c69-4860-bbeb-5438f8c85d44",
   "metadata": {},
   "outputs": [],
   "source": []
  },
  {
   "cell_type": "code",
   "execution_count": null,
   "id": "4bf99bfc-d7bc-42fe-99af-fa5ab8aa23bf",
   "metadata": {},
   "outputs": [],
   "source": []
  },
  {
   "cell_type": "code",
   "execution_count": null,
   "id": "4499dcf0-57cd-46ca-b699-04ba21e3e860",
   "metadata": {},
   "outputs": [],
   "source": []
  },
  {
   "cell_type": "code",
   "execution_count": null,
   "id": "53f1b4f0-4617-479b-b440-827e0dcf2577",
   "metadata": {},
   "outputs": [],
   "source": []
  },
  {
   "cell_type": "code",
   "execution_count": null,
   "id": "53263e90-d541-4ad8-a8ff-85f81834f217",
   "metadata": {},
   "outputs": [],
   "source": []
  }
 ],
 "metadata": {
  "kernelspec": {
   "display_name": "Python 3 (ipykernel)",
   "language": "python",
   "name": "python3"
  },
  "language_info": {
   "codemirror_mode": {
    "name": "ipython",
    "version": 3
   },
   "file_extension": ".py",
   "mimetype": "text/x-python",
   "name": "python",
   "nbconvert_exporter": "python",
   "pygments_lexer": "ipython3",
   "version": "3.12.7"
  }
 },
 "nbformat": 4,
 "nbformat_minor": 5
}
