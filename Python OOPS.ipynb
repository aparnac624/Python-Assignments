{
 "cells": [
  {
   "cell_type": "code",
   "execution_count": 2,
   "id": "cf02ea61-1568-4f4f-bfac-66c8c8dd3896",
   "metadata": {},
   "outputs": [
    {
     "name": "stdout",
     "output_type": "stream",
     "text": [
      "Core Course Details:\n",
      "Course Code : CS101\n",
      "Course Name : Introduction to Computer Science\n",
      "Credit Hours : 3\n",
      "\n",
      "Elective Course Details:\n",
      "Course Code : EN201\n",
      "Course Name : Creative Writing\n",
      "Credit Hours : 2\n"
     ]
    }
   ],
   "source": [
    "# Build a program to manage a university's course catalog. \n",
    "# You want to define a base class Course that has the following properties: course_code: a string representing the course code (e.g., \"CS101\") course_name: a string representing the course name (e.g., \"Introduction to Computer Science\") credit_hours: an integer representing the credit hours for the course (e.g., 3) \n",
    "# You also want to define two subclasses CoreCourse and ElectiveCourse, which inherit from the Course class. \n",
    "# CoreCourse should have an additional property required_for_major which is a boolean representing whether the course is required for a particular major. \n",
    "# ElectiveCourse should have an additional property elective_type which is a string representing the type of elective (e.g., \"general\", \"technical\", \"liberal arts\").\n",
    "\n",
    "\n",
    "# Base Class\n",
    "class Course:\n",
    "    def __init__(self,course_code,course_name,credit_hours):\n",
    "        self.course_code = course_code\n",
    "        self.course_name = course_name\n",
    "        self.credit_hours = credit_hours\n",
    "\n",
    "    def display_info(self):\n",
    "        print(f\"Course Code : {self.course_code}\")\n",
    "        print(f\"Course Name : {self.course_name}\")\n",
    "        print(f\"Credit Hours : {self.credit_hours}\")\n",
    "\n",
    "\n",
    "# Subclass CoreCourse\n",
    "class CoreCourse(Course):\n",
    "    def __init__(self,course_code,course_name,credit_hours,required_for_major):\n",
    "        super().__init__(course_code,course_name,credit_hours)\n",
    "        self.required_for_major = required_for_major\n",
    "\n",
    "    def display_corecourse_info(self):\n",
    "        super().display_info()\n",
    "        print(f\"Required for Major : {'Yes' if self.required_for_major else 'No'}\")\n",
    "\n",
    "\n",
    "# Subclass ElectiveCourse\n",
    "class ElectiveCourse(Course):\n",
    "    def __init__(self,course_code,course_name,credit_hours,elective_type):\n",
    "        super().__init__(course_code,course_name,credit_hours)\n",
    "        self.elective_type = elective_type\n",
    "\n",
    "    def display_electivecourse_info(self):\n",
    "        super().display_info()\n",
    "        print(f\"Elective type : {self.elective_type}\")\n",
    "\n",
    "\n",
    "core = CoreCourse(\"CS101\", \"Introduction to Computer Science\", 3, True)\n",
    "elective = ElectiveCourse(\"EN201\", \"Creative Writing\", 2, \"liberal arts\")\n",
    "\n",
    "print(\"Core Course Details:\")\n",
    "core.display_info()\n",
    "print(\"\\nElective Course Details:\")\n",
    "elective.display_info()\n",
    "\n",
    "        \n"
   ]
  },
  {
   "cell_type": "code",
   "execution_count": 2,
   "id": "5aba3047-7912-4c12-be3a-1336deb7140d",
   "metadata": {},
   "outputs": [
    {
     "name": "stdout",
     "output_type": "stream",
     "text": [
      "Employee Name: John Doe\n",
      "Employee Salary: 50000\n"
     ]
    }
   ],
   "source": [
    "# Create a Python module named employee that contains a class Employee with attributes name, salary and methods get_name() and get_salary(). \n",
    "# Write a program to use this module to create an object of the Employee class and display its name and salary.\n",
    "\n",
    "\n",
    "# impporting Employee Class from employee.py\n",
    "from employee import Employee\n",
    "\n",
    "# Create an Employee object\n",
    "emp = Employee(\"John Doe\", 50000)\n",
    "\n",
    "# Display details\n",
    "print(\"Employee Name:\", emp.get_name())\n",
    "print(\"Employee Salary:\", emp.get_salary())\n"
   ]
  },
  {
   "cell_type": "code",
   "execution_count": null,
   "id": "d9a92021-ebf5-4cc9-a76c-5a71906993aa",
   "metadata": {},
   "outputs": [],
   "source": []
  }
 ],
 "metadata": {
  "kernelspec": {
   "display_name": "Python 3 (ipykernel)",
   "language": "python",
   "name": "python3"
  },
  "language_info": {
   "codemirror_mode": {
    "name": "ipython",
    "version": 3
   },
   "file_extension": ".py",
   "mimetype": "text/x-python",
   "name": "python",
   "nbconvert_exporter": "python",
   "pygments_lexer": "ipython3",
   "version": "3.12.7"
  }
 },
 "nbformat": 4,
 "nbformat_minor": 5
}
