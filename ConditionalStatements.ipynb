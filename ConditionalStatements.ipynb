{
 "cells": [
  {
   "cell_type": "code",
   "execution_count": 50,
   "id": "6d6fe629-5658-4838-ac17-b7f6ddc76406",
   "metadata": {},
   "outputs": [
    {
     "name": "stdin",
     "output_type": "stream",
     "text": [
      "Enter an integer value between 1 and 12:  6\n"
     ]
    },
    {
     "name": "stdout",
     "output_type": "stream",
     "text": [
      "Month 6 is June\n"
     ]
    }
   ],
   "source": [
    "# Exercise 1 \n",
    "# Name your file: MonthNames.py \n",
    "# Write a program that reads an integer value between 1 and 12 from the user and prints output the corresponding month of the year.\n",
    "# An example run of the program (numbers in bold are typed in by the user) Enter the month: 3 Month 3 is March \n",
    "\n",
    "number = int(input(\"Enter an integer value between 1 and 12: \"))\n",
    "months = [\"January\", \"February\", \"March\", \"April\", \"May\", \"June\", \"July\", \"August\", \"September\", \"October\", \"November\", \"December\"]\n",
    "if(number >= 1 and number <=12):\n",
    "    print(f\"Month {number} is {months[number-1]}\")\n",
    "else:\n",
    "    print(\"Invalid input\")\n"
   ]
  },
  {
   "cell_type": "code",
   "execution_count": 55,
   "id": "a7fb681d-f8b7-415c-a02b-bfaef366664d",
   "metadata": {},
   "outputs": [
    {
     "name": "stdin",
     "output_type": "stream",
     "text": [
      "Enter your age:  55\n"
     ]
    },
    {
     "name": "stdout",
     "output_type": "stream",
     "text": [
      "Your ticket costs £6.00\n"
     ]
    }
   ],
   "source": [
    "# Exercise 2 \n",
    "# A certain cinema currently sells tickets for a full price of 6 pounds, but always sells tickets for half price to people who are less than 16 years old, and for a third of the price for people who are 60 years old or more. \n",
    "# An example run of the program (numbers in bold are typed in by the user) Enter your age: 63 Your ticket costs £2.00 \n",
    "\n",
    "age = int(input(\"Enter your age: \"))\n",
    "if(age < 16):\n",
    "    price = 6/2     # half price\n",
    "elif (age >= 60):\n",
    "    price = 6/3     # one-third price\n",
    "else:\n",
    "    price = 6      # full price\n",
    "\n",
    "print(f\"Your ticket costs £{price:.2f}\")\n",
    "                \n"
   ]
  },
  {
   "cell_type": "code",
   "execution_count": 59,
   "id": "3bc7a3f8-b6ab-4665-bda0-f186df442ec0",
   "metadata": {},
   "outputs": [
    {
     "name": "stdin",
     "output_type": "stream",
     "text": [
      "Enter your weight in (kg):  75\n",
      "Enter your height in (m):  1.60\n"
     ]
    },
    {
     "name": "stdout",
     "output_type": "stream",
     "text": [
      "Your BMI is: 23.4375. You are in the “Normal” range.\n"
     ]
    }
   ],
   "source": [
    "# Exercise 3 \n",
    "# Name your file: BodyMassIndex.py \n",
    "# Write a program to calculate your BMI and give weight status. Body Mass Index (BMI) is an internationally used measurement to check if you are a healthy weight for your height.\n",
    "# The metric BMI formula accepts weight in kilograms and height in meters: BMI= weight(kg)/height2(m2) BMI Weight Status Categories table BMI range - kg/m2 \n",
    "# Category  Below 18.5 - Underweight, 18.5 -24.9 Normal, 25 - 29.9 Overweight, 30 & Above Obese \n",
    "# An example run of the program (numbers in bold are typed in by the user) Enter your weight in (kg): 75 Enter your height in (m): 1.70 Your BMI is: 25.95 You are in the “overweight” range. \n",
    "\n",
    "weight = float(input(\"Enter your weight in (kg): \"))\n",
    "height = float(input(\"Enter your height in (m): \"))\n",
    "bmi = weight/ (height*2)\n",
    "if(bmi < 18.5):\n",
    "    category = \"Underweight\"\n",
    "elif(bmi >=18.5 and bmi <=24.9):\n",
    "    category = \"Normal\"\n",
    "elif(bmi>=25 and bmi<=29.9):\n",
    "    category = \"Overweight\"\n",
    "elif(bmi >= 30):\n",
    "    category = \"Above Obese\"\n",
    "else:\n",
    "    print (\"Invalid input\")\n",
    "print(f\"Your BMI is: {bmi}. You are in the “{category}” range.\")\n",
    "\n"
   ]
  },
  {
   "cell_type": "code",
   "execution_count": 65,
   "id": "a39ef33b-80fd-4e57-abe3-57ba140ef909",
   "metadata": {},
   "outputs": [
    {
     "name": "stdin",
     "output_type": "stream",
     "text": [
      "Enter the first number:  5\n",
      "Enter the second number:  25\n",
      "Enter the third number:  30\n"
     ]
    },
    {
     "name": "stdout",
     "output_type": "stream",
     "text": [
      "Greatest number =  30\n"
     ]
    }
   ],
   "source": [
    "# Exercise 4 \n",
    "# Write a Python program to receive 3 numbers from the user and print the greatest among them. \n",
    "num1 = int(input(\"Enter the first number: \"))\n",
    "num2 = int(input(\"Enter the second number: \"))\n",
    "num3 = int(input(\"Enter the third number: \"))\n",
    "if (num1 > num2 and num1 > num3):\n",
    "    print(\"Greatest number = \", num1)\n",
    "elif (num2 > num1 and num2 > num3):\n",
    "    print(\"Greatest number = \",num2)\n",
    "else:\n",
    "    print(\"Greatest number = \",num3)"
   ]
  },
  {
   "cell_type": "code",
   "execution_count": 66,
   "id": "87c3a904-d663-4493-9a46-47d31eec8b2d",
   "metadata": {},
   "outputs": [
    {
     "name": "stdin",
     "output_type": "stream",
     "text": [
      "Enter a number : 5\n"
     ]
    },
    {
     "name": "stdout",
     "output_type": "stream",
     "text": [
      "Factorial of the number = 120\n"
     ]
    }
   ],
   "source": [
    "# Exercise 5 \n",
    "# Find the factorial of a given number using loops ( note the number is received from the user) \n",
    "\n",
    "number = int(input(\"Enter a number :\"))\n",
    "fact = 1\n",
    "for i in range(1,number+1):\n",
    "    fact = fact*i\n",
    "print(\"Factorial of the number =\",fact)\n"
   ]
  },
  {
   "cell_type": "code",
   "execution_count": 70,
   "id": "720bffc8-0153-4601-a09a-4b59a70f1bff",
   "metadata": {},
   "outputs": [
    {
     "name": "stdin",
     "output_type": "stream",
     "text": [
      "Enter a three-digit number : 351\n"
     ]
    },
    {
     "name": "stdout",
     "output_type": "stream",
     "text": [
      "Reversed number : 153\n"
     ]
    }
   ],
   "source": [
    "# Exercise 6 \n",
    "# Reverse a number using while loop \n",
    "\n",
    "num = int(input(\"Enter a three-digit number :\"))      \n",
    "reversed_no = 0\n",
    "while (num > 0): \n",
    "    reversed_no = reversed_no * 10 + num % 10         \n",
    "    num = num//10   \n",
    "    \n",
    "print(\"Reversed number :\", reversed_no)\n",
    "\n"
   ]
  },
  {
   "cell_type": "code",
   "execution_count": 79,
   "id": "becefb2f-51cd-4dee-954c-adaa041a66ea",
   "metadata": {},
   "outputs": [
    {
     "name": "stdin",
     "output_type": "stream",
     "text": [
      "Enter a number : 5\n",
      "Enter the limit : 25\n"
     ]
    },
    {
     "name": "stdout",
     "output_type": "stream",
     "text": [
      "Multiples of 5 upto 25 : 5 10 15 20 25 "
     ]
    }
   ],
   "source": [
    "# Exercise 7 \n",
    "# Finding the multiples of a number using loop\n",
    "\n",
    "number = int(input(\"Enter a number :\"))\n",
    "limit = int(input(\"Enter the limit :\"))\n",
    "print(f\"Multiples of {number} upto {limit} :\", end=\" \")\n",
    "for i in range(1,limit+1):\n",
    "    if(i%number == 0):\n",
    "        print(i,end=\" \")\n",
    "\n"
   ]
  },
  {
   "cell_type": "code",
   "execution_count": 76,
   "id": "17437871-a795-4dd1-865e-7243d03f8e51",
   "metadata": {},
   "outputs": [
    {
     "name": "stdin",
     "output_type": "stream",
     "text": [
      "Enter a value:  anupama\n"
     ]
    },
    {
     "name": "stdout",
     "output_type": "stream",
     "text": [
      "anupama\n"
     ]
    },
    {
     "name": "stdin",
     "output_type": "stream",
     "text": [
      "Enter a value:  anu\n"
     ]
    },
    {
     "name": "stdout",
     "output_type": "stream",
     "text": [
      "anu\n"
     ]
    },
    {
     "name": "stdin",
     "output_type": "stream",
     "text": [
      "Enter a value:  saw\n"
     ]
    },
    {
     "name": "stdout",
     "output_type": "stream",
     "text": [
      "saw\n"
     ]
    },
    {
     "name": "stdin",
     "output_type": "stream",
     "text": [
      "Enter a value:  done\n"
     ]
    },
    {
     "name": "stdout",
     "output_type": "stream",
     "text": [
      "Done\n"
     ]
    }
   ],
   "source": [
    "# Exercise 8 \n",
    "# Write a program to print the inputted value as it is and break the loop if the value is 'done'. \n",
    "# Example run of the program :hello there hello there :finished finished :done Done \n",
    "\n",
    "while True:\n",
    "    user_input = input(\"Enter a value: \")\n",
    "    if user_input == 'done':\n",
    "        print(\"Done\")\n",
    "        break\n",
    "    print(user_input)\n"
   ]
  },
  {
   "cell_type": "code",
   "execution_count": 82,
   "id": "f9f269e0-15c1-4460-b70e-be6b018775b8",
   "metadata": {},
   "outputs": [
    {
     "name": "stdout",
     "output_type": "stream",
     "text": [
      "1\n",
      "2\n",
      "Fizz\n",
      "4\n",
      "Buzz\n",
      "Fizz\n",
      "7\n",
      "8\n",
      "Fizz\n",
      "Buzz\n"
     ]
    }
   ],
   "source": [
    "# Exercise 9 \n",
    "# Write a program that prints the numbers from 1 to 10. But for multiples of three print \"Fizz\" instead of the number and for the multiple of five print \"Buzz\". For numbers which are multiples of both three and five print \"FizzBuzz\" \n",
    "\n",
    "for i in range(1,11):\n",
    "    if(i%3 == 0 and i%5 == 0):\n",
    "        print(\"FizzBuzz\")\n",
    "    elif(i%3 == 0):\n",
    "        print(\"Fizz\")\n",
    "    elif(i%5 == 0):\n",
    "        print(\"Buzz\")\n",
    "    else:\n",
    "        print(i)\n"
   ]
  },
  {
   "cell_type": "code",
   "execution_count": 3,
   "id": "305d7528-6625-4fab-b8b9-c1133a55e6cd",
   "metadata": {},
   "outputs": [
    {
     "name": "stdout",
     "output_type": "stream",
     "text": [
      "5 4 3 2 1 4 3 2 1 3 2 1 2 1 1 "
     ]
    }
   ],
   "source": [
    "# Exercise 10 \n",
    "# Write a program to print the following pattern: 5 4 3 2 1 4 3 2 1 3 2 1 2 1 1\n",
    "\n",
    "for i in range(5, 0, -1):     \n",
    "    for j in range(i, 0, -1):      \n",
    "        print(j, end=\" \")                \n",
    "\n"
   ]
  },
  {
   "cell_type": "code",
   "execution_count": null,
   "id": "3c7c9497-54f5-4a4c-8d1c-8539879b9adb",
   "metadata": {},
   "outputs": [],
   "source": []
  },
  {
   "cell_type": "raw",
   "id": "1a9a9c09-4aef-4073-a61e-c72c0cdb722e",
   "metadata": {},
   "source": []
  },
  {
   "cell_type": "code",
   "execution_count": null,
   "id": "109b6b5b-c53d-461c-b450-1e1524c5cb5d",
   "metadata": {},
   "outputs": [],
   "source": []
  },
  {
   "cell_type": "code",
   "execution_count": null,
   "id": "96bed772-77bc-426e-b597-41c38d7ccb77",
   "metadata": {},
   "outputs": [],
   "source": []
  },
  {
   "cell_type": "code",
   "execution_count": null,
   "id": "7a896f37-6587-433f-8cfd-bdd908351315",
   "metadata": {},
   "outputs": [],
   "source": []
  },
  {
   "cell_type": "code",
   "execution_count": null,
   "id": "86b287f3-3e1a-4668-8395-b809a1532ebc",
   "metadata": {},
   "outputs": [],
   "source": []
  },
  {
   "cell_type": "code",
   "execution_count": null,
   "id": "ea679639-b338-4729-ad67-e5fe9d1f916c",
   "metadata": {},
   "outputs": [],
   "source": []
  },
  {
   "cell_type": "code",
   "execution_count": null,
   "id": "08765f31-e877-4641-8e52-654981a4e28a",
   "metadata": {},
   "outputs": [],
   "source": []
  },
  {
   "cell_type": "code",
   "execution_count": null,
   "id": "152f2986-533e-439b-89b7-e5af6370d130",
   "metadata": {},
   "outputs": [],
   "source": []
  },
  {
   "cell_type": "code",
   "execution_count": null,
   "id": "a103f20a-ca40-45da-86a9-7887905a421b",
   "metadata": {},
   "outputs": [],
   "source": []
  },
  {
   "cell_type": "code",
   "execution_count": null,
   "id": "879c1169-5103-40ae-87b7-f068209f3062",
   "metadata": {},
   "outputs": [],
   "source": []
  },
  {
   "cell_type": "code",
   "execution_count": null,
   "id": "d86dbfff-9ddd-452c-9568-879694e7fe87",
   "metadata": {},
   "outputs": [],
   "source": []
  },
  {
   "cell_type": "code",
   "execution_count": null,
   "id": "33039d54-2726-43d7-8dc3-abf2eb03f858",
   "metadata": {},
   "outputs": [],
   "source": []
  },
  {
   "cell_type": "code",
   "execution_count": null,
   "id": "6f24109e-47d0-4117-8122-48dc844f6770",
   "metadata": {},
   "outputs": [],
   "source": []
  },
  {
   "cell_type": "code",
   "execution_count": null,
   "id": "ac02f295-7182-4282-ac2e-3263d10f875f",
   "metadata": {},
   "outputs": [],
   "source": []
  },
  {
   "cell_type": "code",
   "execution_count": null,
   "id": "7d56ce6b-25cb-477e-bcb1-d5339120a0f3",
   "metadata": {},
   "outputs": [],
   "source": []
  },
  {
   "cell_type": "code",
   "execution_count": null,
   "id": "1c7afcca-43c5-48e7-a9ae-00f222584d74",
   "metadata": {},
   "outputs": [],
   "source": []
  },
  {
   "cell_type": "code",
   "execution_count": null,
   "id": "d0748da0-5142-4abc-aff6-9ddcc2bd84ef",
   "metadata": {},
   "outputs": [],
   "source": []
  },
  {
   "cell_type": "code",
   "execution_count": null,
   "id": "d26058e9-0755-4807-9476-270cb786e0de",
   "metadata": {},
   "outputs": [],
   "source": []
  },
  {
   "cell_type": "code",
   "execution_count": null,
   "id": "2d2037ba-aea9-4623-bd40-8178351b6934",
   "metadata": {},
   "outputs": [],
   "source": []
  },
  {
   "cell_type": "code",
   "execution_count": null,
   "id": "5efcfe05-cfe1-4e28-ad37-dde019fac358",
   "metadata": {},
   "outputs": [],
   "source": []
  },
  {
   "cell_type": "code",
   "execution_count": null,
   "id": "352511af-3bcf-4656-a526-1c0e25468d88",
   "metadata": {},
   "outputs": [],
   "source": []
  },
  {
   "cell_type": "code",
   "execution_count": null,
   "id": "28a7a04b-c1ca-4589-abea-9f806d6a43f3",
   "metadata": {},
   "outputs": [],
   "source": []
  }
 ],
 "metadata": {
  "kernelspec": {
   "display_name": "Python 3 (ipykernel)",
   "language": "python",
   "name": "python3"
  },
  "language_info": {
   "codemirror_mode": {
    "name": "ipython",
    "version": 3
   },
   "file_extension": ".py",
   "mimetype": "text/x-python",
   "name": "python",
   "nbconvert_exporter": "python",
   "pygments_lexer": "ipython3",
   "version": "3.12.7"
  }
 },
 "nbformat": 4,
 "nbformat_minor": 5
}
