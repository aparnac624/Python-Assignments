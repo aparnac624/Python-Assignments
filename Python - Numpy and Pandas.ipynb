{
 "cells": [
  {
   "cell_type": "code",
   "execution_count": 3,
   "id": "e924362c-896f-47c7-a318-4afacebbbbb1",
   "metadata": {},
   "outputs": [
    {
     "name": "stdout",
     "output_type": "stream",
     "text": [
      "Reshaped array:\n",
      " [[ 1  2  3  4  5]\n",
      " [ 6  7  8  9 10]]\n"
     ]
    }
   ],
   "source": [
    "# Importing libraries\n",
    "import numpy as np\n",
    "import pandas as pd\n",
    "\n",
    "# Exercise 1 \n",
    "arr1 = np.arange(1, 11)\n",
    "reshaped_arr1 = arr1.reshape(2, 5)\n",
    "print(\"Reshaped array:\\n\", reshaped_arr1)"
   ]
  },
  {
   "cell_type": "code",
   "execution_count": 4,
   "id": "aac99d50-8778-4312-9044-a844c20440ab",
   "metadata": {},
   "outputs": [
    {
     "name": "stdout",
     "output_type": "stream",
     "text": [
      "Extracted elements:\n",
      " [ 6  7  8  9 10 11 12 13 14 15 16]\n"
     ]
    }
   ],
   "source": [
    "# Exercise 2 \n",
    "arr2 = np.arange(1, 21)\n",
    "extracted = arr2[5:16]\n",
    "print(\"Extracted elements:\\n\", extracted)"
   ]
  },
  {
   "cell_type": "code",
   "execution_count": 8,
   "id": "2da96fe9-a220-4288-84a2-52149c0f3088",
   "metadata": {},
   "outputs": [
    {
     "name": "stdout",
     "output_type": "stream",
     "text": [
      "Updated Series:\n",
      " apples     3\n",
      "bananas    2\n",
      "oranges    1\n",
      "pears      4\n",
      "dtype: int64\n"
     ]
    }
   ],
   "source": [
    "# Exercise 3 \n",
    "data = {'apples': 3, 'bananas': 2, 'oranges': 1}\n",
    "fruits = pd.Series(data)\n",
    "fruits['pears'] = 4\n",
    "print(\"Updated Series:\\n\",fruits)"
   ]
  },
  {
   "cell_type": "code",
   "execution_count": 9,
   "id": "eab4f6e0-6bcf-4e3f-966e-c28d92d98aa0",
   "metadata": {},
   "outputs": [
    {
     "name": "stdout",
     "output_type": "stream",
     "text": [
      "DataFrame:\n",
      "       name  age gender\n",
      "0    Alice   25      F\n",
      "1      Bob   32      M\n",
      "2  Charlie   28      M\n",
      "3    David   45      M\n",
      "4      Eva   35      F\n",
      "5    Frank   29      M\n",
      "6    Grace   41      F\n",
      "7    Helen   33      F\n",
      "8      Ivy   26      F\n",
      "9     John   30      M\n"
     ]
    }
   ],
   "source": [
    "# Exercise 4 \n",
    "data = {\n",
    "    'name': ['Alice', 'Bob', 'Charlie', 'David', 'Eva', 'Frank', 'Grace', 'Helen', 'Ivy', 'John'],\n",
    "    'age': [25, 32, 28, 45, 35, 29, 41, 33, 26, 30],\n",
    "    'gender': ['F', 'M', 'M', 'M', 'F', 'M', 'F', 'F', 'F', 'M']\n",
    "}\n",
    "df = pd.DataFrame(data)\n",
    "print(\"DataFrame:\\n\", df)"
   ]
  },
  {
   "cell_type": "code",
   "execution_count": 10,
   "id": "cc7eba3d-0880-4ebf-b4c6-067de2aad2de",
   "metadata": {},
   "outputs": [
    {
     "name": "stdout",
     "output_type": "stream",
     "text": [
      "DataFrame with occupation:\n",
      "       name  age gender  occupation\n",
      "0    Alice   25      F  Programmer\n",
      "1      Bob   32      M     Manager\n",
      "2  Charlie   28      M     Analyst\n",
      "3    David   45      M  Programmer\n",
      "4      Eva   35      F     Manager\n",
      "5    Frank   29      M     Analyst\n",
      "6    Grace   41      F  Programmer\n",
      "7    Helen   33      F     Manager\n",
      "8      Ivy   26      F     Analyst\n",
      "9     John   30      M  Programmer\n"
     ]
    }
   ],
   "source": [
    "# Exercise 5 \n",
    "occupations = ['Programmer', 'Manager', 'Analyst', 'Programmer', 'Manager',\n",
    "               'Analyst', 'Programmer', 'Manager', 'Analyst', 'Programmer']\n",
    "df['occupation'] = occupations\n",
    "print(\"DataFrame with occupation:\\n\", df)"
   ]
  },
  {
   "cell_type": "code",
   "execution_count": null,
   "id": "90de83bb-ca68-40bd-ac68-607775160b9e",
   "metadata": {},
   "outputs": [],
   "source": [
    "# Exercise 6 \n",
    "age_filtered_df = df[df['age'] >= 30]\n",
    "print(\"\\nExercise 6 - Rows with age >= 30:\\n\", age_filtered_df)"
   ]
  },
  {
   "cell_type": "code",
   "execution_count": null,
   "id": "93505264-701b-41f3-8e10-ee426dbff28c",
   "metadata": {},
   "outputs": [],
   "source": [
    "# Exercise 7 \n",
    "df.to_csv('people.csv', index=False)\n",
    "df_from_csv = pd.read_csv('people.csv')\n",
    "print(\"\\nExercise 7 - Data read from CSV:\\n\", df_from_csv)"
   ]
  },
  {
   "cell_type": "code",
   "execution_count": null,
   "id": "b1ea4344-331c-4521-bd5e-2c38eb691ac6",
   "metadata": {},
   "outputs": [],
   "source": []
  },
  {
   "cell_type": "code",
   "execution_count": null,
   "id": "cd40fda5-bfc2-4681-a37c-a8931f0bc031",
   "metadata": {},
   "outputs": [],
   "source": []
  },
  {
   "cell_type": "code",
   "execution_count": null,
   "id": "76cb26fb-f6ea-4794-bd39-c315bed2b37b",
   "metadata": {},
   "outputs": [],
   "source": []
  },
  {
   "cell_type": "code",
   "execution_count": null,
   "id": "b6158f6b-2424-41f9-9d69-28cb21477174",
   "metadata": {},
   "outputs": [],
   "source": []
  },
  {
   "cell_type": "code",
   "execution_count": null,
   "id": "6a1c81bd-6068-4aba-a936-e329893fc569",
   "metadata": {},
   "outputs": [],
   "source": []
  },
  {
   "cell_type": "code",
   "execution_count": null,
   "id": "59b5f5b9-a277-4cc1-820f-1b6248b645ff",
   "metadata": {},
   "outputs": [],
   "source": []
  }
 ],
 "metadata": {
  "kernelspec": {
   "display_name": "Python 3 (ipykernel)",
   "language": "python",
   "name": "python3"
  },
  "language_info": {
   "codemirror_mode": {
    "name": "ipython",
    "version": 3
   },
   "file_extension": ".py",
   "mimetype": "text/x-python",
   "name": "python",
   "nbconvert_exporter": "python",
   "pygments_lexer": "ipython3",
   "version": "3.12.7"
  }
 },
 "nbformat": 4,
 "nbformat_minor": 5
}
