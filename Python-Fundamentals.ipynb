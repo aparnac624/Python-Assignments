{
 "cells": [
  {
   "cell_type": "code",
   "execution_count": 1,
   "id": "d6830ac0-8acf-4093-b98a-7d951b92399b",
   "metadata": {},
   "outputs": [
    {
     "name": "stdout",
     "output_type": "stream",
     "text": [
      "Aparna ST1003 aparnac624@gmail.com\n"
     ]
    }
   ],
   "source": [
    "# Python code that prints your name, student number and email address. An example runs of the program: Bob ST1001 bob@gmail.com \n",
    "print(\"Aparna ST1003 aparnac624@gmail.com\")"
   ]
  },
  {
   "cell_type": "code",
   "execution_count": 2,
   "id": "877ea09c-68eb-483c-ba28-bb9dd12036c9",
   "metadata": {},
   "outputs": [
    {
     "name": "stdout",
     "output_type": "stream",
     "text": [
      "Aparna\tST1003\taparnac624@gmail.com\n"
     ]
    }
   ],
   "source": [
    "#Python code that prints your name, student number and email address using escape sequences. An example runs of the program: Bob ST1001 bob@gmail.com\n",
    "print(\"Aparna\\tST1003\\taparnac624@gmail.com\")"
   ]
  },
  {
   "cell_type": "code",
   "execution_count": 3,
   "id": "eb42bebc-4bf7-425b-8c34-7bc879b6fb0b",
   "metadata": {},
   "outputs": [
    {
     "name": "stdout",
     "output_type": "stream",
     "text": [
      "14+7=21\n",
      "14-7=7\n",
      "14*7=98\n",
      "14/7=2.0\n"
     ]
    }
   ],
   "source": [
    "# Python code that add, subtract, multiply and divide the two numbers. \n",
    "# You can use the two numbers 14 and 7. An example run of the program: 14 + 7 = 21 14 * 7 = 98 14 – 7 = 7 14 / 7 = 2 \n",
    "n1=14\n",
    "n2=7\n",
    "print(f\"{n1}+{n2}={n1+n2}\")\n",
    "print(f\"{n1}-{n2}={n1-n2}\")\n",
    "print(f\"{n1}*{n2}={n1*n2}\")\n",
    "print(f\"{n1}/{n2}={n1/n2}\")"
   ]
  },
  {
   "cell_type": "code",
   "execution_count": 4,
   "id": "a2277164-db47-4f9f-8484-ba73cb11060e",
   "metadata": {},
   "outputs": [
    {
     "name": "stdout",
     "output_type": "stream",
     "text": [
      "1 2 3 4 5\n"
     ]
    }
   ],
   "source": [
    "# Python code that displays the numbers from 1 to 5 as steps. An example runs of the program: 1 2 3 4 5 \n",
    "n=1\n",
    "print(n,n+1,n+2,n+3,n+4)"
   ]
  },
  {
   "cell_type": "code",
   "execution_count": 5,
   "id": "52a64c36-53a3-484c-92c0-661fe2da036d",
   "metadata": {},
   "outputs": [
    {
     "name": "stdout",
     "output_type": "stream",
     "text": [
      "\"SDK\" stands for \"Software Development Kit\", whereas \"IDE\" stands for \"Integrated Development Environment\".\n"
     ]
    }
   ],
   "source": [
    "# Python code that outputs the following sentence (including the quotation marks and line break) to the screen: \n",
    "# An example runs of the program: \"SDK\" stands for \"Software Development Kit\", whereas \"IDE\" stands for \"Integrated Development Environment\".\n",
    "print(\"\\\"SDK\\\" stands for \\\"Software Development Kit\\\", whereas \\\"IDE\\\" stands for \\\"Integrated Development Environment\\\".\")"
   ]
  },
  {
   "cell_type": "code",
   "execution_count": 6,
   "id": "b7974000-77e9-4f3b-b590-ab8ac0460fba",
   "metadata": {},
   "outputs": [
    {
     "name": "stdout",
     "output_type": "stream",
     "text": [
      "python is an \"awesome\" language.\n",
      "python\n",
      "\t2023\n",
      "I'm from Entri\n",
      "5\n",
      "e\n",
      "Entri\n",
      "2023\n",
      "Entr2023\n",
      "Entri*20"
     ]
    }
   ],
   "source": [
    "# Practice and check the output print(\"python is an \\\"awesome\\\" language.\") print(\"python\\n\\t2023\") print('I\\'m from Entri.\\b') print(\"\\65\") print(\"\\x65\") print(\"Entri\", \"2023\", sep=\"\\n\") print(\"Entri\", \"2023\", sep=\"\\b\") print(\"Entri\", \"2023\", sep=\"*\", end=\"\\b\\b\\b\\b\")\n",
    "print(\"python is an \\\"awesome\\\" language.\")   \n",
    "print(\"python\\n\\t2023\")         \n",
    "print('I\\'m from Entri.\\b')      \n",
    "print(\"\\65\")                     \n",
    "print(\"\\x65\")                    \n",
    "print(\"Entri\", \"2023\", sep=\"\\n\")     \n",
    "print(\"Entri\", \"2023\", sep=\"\\b\")    \n",
    "print(\"Entri\", \"2023\", sep=\"*\", end=\"\\b\\b\\b\\b\")   "
   ]
  },
  {
   "cell_type": "code",
   "execution_count": 7,
   "id": "d03bdf5c-e88f-416e-bf5b-68bb778697e5",
   "metadata": {},
   "outputs": [
    {
     "name": "stdout",
     "output_type": "stream",
     "text": [
      "<class 'int'>\n",
      "<class 'str'>\n",
      "<class 'float'>\n"
     ]
    }
   ],
   "source": [
    "# Define the variables below. Print the types of each variable. What is the sum of your variables? \n",
    "# (Hint: use a type conversion function.) What datatype is the sum? num=23 textnum=\"57\" decimal=98.3\n",
    "num=23 \n",
    "textnum=\"57\" \n",
    "decimal=98.3\n",
    "print(type(num))  \n",
    "print(type(textnum)) \n",
    "print(type(decimal))  "
   ]
  },
  {
   "cell_type": "code",
   "execution_count": 8,
   "id": "9b042fe9-7ec7-49fa-bf38-b123b0dc547d",
   "metadata": {},
   "outputs": [
    {
     "name": "stdout",
     "output_type": "stream",
     "text": [
      "Sum = 178.3\n",
      "Datatype of sum variable : <class 'float'>\n"
     ]
    }
   ],
   "source": [
    "# converting textnum to integer and then calculating sum\n",
    "sum = num + int(textnum) + decimal\n",
    "print(\"Sum =\",sum)          \n",
    "print(\"Datatype of sum variable :\", type(sum))          "
   ]
  },
  {
   "cell_type": "code",
   "execution_count": 9,
   "id": "223efc9d-2aa6-47ab-b835-3aab2ef6b106",
   "metadata": {},
   "outputs": [
    {
     "name": "stdout",
     "output_type": "stream",
     "text": [
      "Total no:of days in a year = 365\n",
      "Total minutes in an hour = 60\n",
      "Total hours in a day = 24\n",
      "Total no:of minutes in an year = 525600\n"
     ]
    }
   ],
   "source": [
    "# calculate the number of minutes in a year using variables for each unit of time. \n",
    "# print a statement that describes what your code does also. \n",
    "# Create three variables to store no of days in a year, minute in a hour, hours in a day, then calculate the total minutes in a year and print the values \n",
    "# (hint) total number of minutes in an year =No.of days in an year * Hours in a day * Minutes in an hour\n",
    "\n",
    "total_days = 365\n",
    "total_minutes = 60\n",
    "total_hours = 24\n",
    "print(\"Total no:of days in a year =\",total_days)\n",
    "print(\"Total minutes in an hour =\",total_minutes)\n",
    "print(\"Total hours in a day =\",total_hours)\n",
    "print(\"Total no:of minutes in an year =\", total_days*total_hours*total_minutes)"
   ]
  },
  {
   "cell_type": "code",
   "execution_count": 10,
   "id": "a583098e-4ea0-4f00-9d4c-c001e9ec650d",
   "metadata": {},
   "outputs": [
    {
     "name": "stdin",
     "output_type": "stream",
     "text": [
      "Please enter your name: anu\n"
     ]
    },
    {
     "name": "stdout",
     "output_type": "stream",
     "text": [
      "anu Hi anu, welcome to Python programming :) \n"
     ]
    }
   ],
   "source": [
    "# Python code that asks the user to enter his/her name and then output/prints his/her name with a greeting.\n",
    "# An example runs of the program: Please enter you name: Tony Hi Tony, welcome to Python programming :) \n",
    "name = input(\"Please enter your name:\")\n",
    "print(f\"{name} Hi {name}, welcome to Python programming :) \")"
   ]
  },
  {
   "cell_type": "code",
   "execution_count": null,
   "id": "90975818-cee5-47a9-97d9-c7c721702d3a",
   "metadata": {},
   "outputs": [],
   "source": []
  },
  {
   "cell_type": "code",
   "execution_count": null,
   "id": "1b61da29-7c75-45ea-b6a5-e9497ac05ab0",
   "metadata": {},
   "outputs": [],
   "source": []
  },
  {
   "cell_type": "code",
   "execution_count": null,
   "id": "b3997234-ec76-451c-8d6c-55374d6b6d67",
   "metadata": {},
   "outputs": [],
   "source": []
  },
  {
   "cell_type": "code",
   "execution_count": null,
   "id": "cc866232-3f45-4c76-a9b9-84c40ae47781",
   "metadata": {},
   "outputs": [],
   "source": []
  },
  {
   "cell_type": "code",
   "execution_count": null,
   "id": "0fdfb0c0-18d4-4950-b504-bd47b1c329d6",
   "metadata": {},
   "outputs": [],
   "source": []
  }
 ],
 "metadata": {
  "kernelspec": {
   "display_name": "Python 3 (ipykernel)",
   "language": "python",
   "name": "python3"
  },
  "language_info": {
   "codemirror_mode": {
    "name": "ipython",
    "version": 3
   },
   "file_extension": ".py",
   "mimetype": "text/x-python",
   "name": "python",
   "nbconvert_exporter": "python",
   "pygments_lexer": "ipython3",
   "version": "3.12.7"
  }
 },
 "nbformat": 4,
 "nbformat_minor": 5
}
