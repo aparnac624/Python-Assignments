{
 "cells": [
  {
   "cell_type": "code",
   "execution_count": 1,
   "id": "c35f583f-0f83-4051-9cd7-c2ae697923c0",
   "metadata": {},
   "outputs": [
    {
     "name": "stdout",
     "output_type": "stream",
     "text": [
      "Original list:  [1, 2, 3, 4, 5, 6, 7, 8, 9, 10]\n"
     ]
    }
   ],
   "source": [
    "# Topic: List \n",
    "# Exercise \n",
    "# Q1. Create a list of 5 random numbers and print the list. \n",
    "numbers = list(range(1,11))\n",
    "print(\"Original list: \",numbers)"
   ]
  },
  {
   "cell_type": "code",
   "execution_count": 2,
   "id": "7ea3ff0e-a26a-4c8d-9f1d-e30ea826daad",
   "metadata": {},
   "outputs": [
    {
     "name": "stdout",
     "output_type": "stream",
     "text": [
      "Updated list:  [1, 2, 3, 4, 5, 6, 7, 8, 9, 10, 11, 12, 13]\n"
     ]
    }
   ],
   "source": [
    "# Q2. Insert 3 new values to the list and print the updated list. \n",
    "numbers.append(11)\n",
    "numbers.append(12)\n",
    "numbers.append(13)\n",
    "print(\"Updated list: \",numbers)"
   ]
  },
  {
   "cell_type": "code",
   "execution_count": 3,
   "id": "e6ef8a19-82d4-4082-9469-716ab18da493",
   "metadata": {},
   "outputs": [
    {
     "name": "stdout",
     "output_type": "stream",
     "text": [
      "Elements in list are below: \n",
      "1\n",
      "2\n",
      "3\n",
      "4\n",
      "5\n",
      "6\n",
      "7\n",
      "8\n",
      "9\n",
      "10\n",
      "11\n",
      "12\n",
      "13\n"
     ]
    }
   ],
   "source": [
    "# Q3. Try to use a for loop to print each element in the list. \n",
    "print(\"Elements in list are below: \")\n",
    "for i in numbers:\n",
    "    print(i)"
   ]
  },
  {
   "cell_type": "code",
   "execution_count": 4,
   "id": "b8a5bcea-21ff-4dbc-8d64-598a3de58596",
   "metadata": {},
   "outputs": [
    {
     "name": "stdout",
     "output_type": "stream",
     "text": [
      "Original dictionary:  {'name': 'John', 'age': 25, 'address': 'New York'}\n"
     ]
    }
   ],
   "source": [
    "# Topic: Dictionary \n",
    "# Exercise \n",
    "# Q1. Create a dictionary with keys 'name', 'age', and 'address' and values 'John', 25, and 'New York' respectively. \n",
    "dict1 = {'name': 'John', 'age':25, 'address':'New York'}\n",
    "print(\"Original dictionary: \",dict1)"
   ]
  },
  {
   "cell_type": "code",
   "execution_count": 5,
   "id": "31788c60-d858-4039-8a34-6453558ba89a",
   "metadata": {},
   "outputs": [
    {
     "name": "stdout",
     "output_type": "stream",
     "text": [
      "Updated dictionary:  {'name': 'John', 'age': 25, 'address': 'New York', 'phone': '1234567890'}\n"
     ]
    }
   ],
   "source": [
    "# Q2. Add a new key-value pair to the dictionary created in Q1 with key 'phone' and value '1234567890'. \n",
    "dict1['phone'] = '1234567890'\n",
    "print(\"Updated dictionary: \",dict1)"
   ]
  },
  {
   "cell_type": "code",
   "execution_count": 6,
   "id": "fa9f06da-6d83-4876-9e38-c7feabd60652",
   "metadata": {},
   "outputs": [
    {
     "name": "stdout",
     "output_type": "stream",
     "text": [
      "Original set:  {1, 2, 3, 4, 5}\n"
     ]
    }
   ],
   "source": [
    "# Topic: Set \n",
    "# Exercise \n",
    "# Q1. Create a set with values 1, 2, 3, 4, and 5. \n",
    "set1 = {1,2,3,4,5}\n",
    "print(\"Original set: \",set1)"
   ]
  },
  {
   "cell_type": "code",
   "execution_count": 7,
   "id": "49626dd6-2056-420c-94ac-5fdd2cf7d63f",
   "metadata": {},
   "outputs": [
    {
     "name": "stdout",
     "output_type": "stream",
     "text": [
      "Updated set after adding value 6:  {1, 2, 3, 4, 5, 6}\n"
     ]
    }
   ],
   "source": [
    "# Q2. Add the value 6 to the set created in Q1.\n",
    "set1.add(6)\n",
    "print(\"Updated set after adding value 6: \",set1)"
   ]
  },
  {
   "cell_type": "code",
   "execution_count": 8,
   "id": "777e5066-40c0-4c4d-995d-f9162f233e84",
   "metadata": {},
   "outputs": [
    {
     "name": "stdout",
     "output_type": "stream",
     "text": [
      "Updated set after removing value 3:  {1, 2, 4, 5, 6}\n"
     ]
    }
   ],
   "source": [
    "# Q3. Remove the value 3 from the set created in Q1. \n",
    "set1.remove(3)\n",
    "print(\"Updated set after removing value 3: \",set1)"
   ]
  },
  {
   "cell_type": "code",
   "execution_count": 9,
   "id": "155d9772-e18b-441a-ba51-4791a14144db",
   "metadata": {},
   "outputs": [
    {
     "name": "stdout",
     "output_type": "stream",
     "text": [
      "Original tuple:  (1, 2, 3, 4)\n",
      "<class 'tuple'>\n"
     ]
    }
   ],
   "source": [
    "# Topic: Tuple \n",
    "# Exercise \n",
    "# Q1. Create a tuple with values 1, 2, 3, and 4. \n",
    "tuple1 = (1,2,3,4)\n",
    "print(\"Original tuple: \",tuple1)\n",
    "print(type(tuple1))"
   ]
  },
  {
   "cell_type": "code",
   "execution_count": 10,
   "id": "732d3de5-05b1-4a5f-8213-b909ffe0c84d",
   "metadata": {},
   "outputs": [
    {
     "name": "stdout",
     "output_type": "stream",
     "text": [
      "Length of tuple = 4\n"
     ]
    }
   ],
   "source": [
    "# Q2. Print the length of the tuple created in Q1.\n",
    "length = len(tuple1)\n",
    "print(\"Length of tuple =\",length)"
   ]
  },
  {
   "cell_type": "code",
   "execution_count": null,
   "id": "f45f5053-6c2f-47f9-ba35-d41430888cea",
   "metadata": {},
   "outputs": [],
   "source": []
  },
  {
   "cell_type": "code",
   "execution_count": null,
   "id": "2d9e8165-167f-4a64-8f75-0003991e5df2",
   "metadata": {},
   "outputs": [],
   "source": []
  },
  {
   "cell_type": "code",
   "execution_count": null,
   "id": "9bdb39b1-cd32-4020-92af-d319a6917eab",
   "metadata": {},
   "outputs": [],
   "source": []
  },
  {
   "cell_type": "code",
   "execution_count": null,
   "id": "d7470083-c6d1-4268-b11e-ead8a2b3e3b3",
   "metadata": {},
   "outputs": [],
   "source": []
  },
  {
   "cell_type": "code",
   "execution_count": null,
   "id": "510afb62-b270-410b-ad4b-484f39361b23",
   "metadata": {},
   "outputs": [],
   "source": []
  },
  {
   "cell_type": "code",
   "execution_count": null,
   "id": "7337d927-cbc3-466b-9377-57b32adda745",
   "metadata": {},
   "outputs": [],
   "source": []
  },
  {
   "cell_type": "code",
   "execution_count": null,
   "id": "1a09c6ee-4b2e-4f14-a0b4-926fb591b005",
   "metadata": {},
   "outputs": [],
   "source": []
  },
  {
   "cell_type": "code",
   "execution_count": null,
   "id": "006485fe-9941-444a-bf04-797b0bfbff72",
   "metadata": {},
   "outputs": [],
   "source": []
  },
  {
   "cell_type": "code",
   "execution_count": null,
   "id": "139537da-e007-4989-a600-8afb35267fc2",
   "metadata": {},
   "outputs": [],
   "source": []
  }
 ],
 "metadata": {
  "kernelspec": {
   "display_name": "Python 3 (ipykernel)",
   "language": "python",
   "name": "python3"
  },
  "language_info": {
   "codemirror_mode": {
    "name": "ipython",
    "version": 3
   },
   "file_extension": ".py",
   "mimetype": "text/x-python",
   "name": "python",
   "nbconvert_exporter": "python",
   "pygments_lexer": "ipython3",
   "version": "3.12.7"
  }
 },
 "nbformat": 4,
 "nbformat_minor": 5
}
