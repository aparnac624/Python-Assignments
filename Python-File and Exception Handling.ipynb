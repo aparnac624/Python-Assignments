{
 "cells": [
  {
   "cell_type": "code",
   "execution_count": 1,
   "id": "a7edb1d4-4168-44ec-9739-23a87c536013",
   "metadata": {},
   "outputs": [
    {
     "name": "stdout",
     "output_type": "stream",
     "text": [
      "Name : Aparna C\n",
      "Course : Data Science and Machine Learning\n",
      "Batch : D47\n",
      "\n"
     ]
    }
   ],
   "source": [
    "# File and Exception Handling\n",
    "# Exercise 1: Write a Python program to read a file and display its content\n",
    "with open(\"C:\\\\Users\\\\17010\\\\OneDrive\\\\Desktop\\\\file1.txt\",\"r\") as file1:\n",
    "    data = file1.read()\n",
    "    print(data)"
   ]
  },
  {
   "cell_type": "code",
   "execution_count": 2,
   "id": "c82e6bd2-47c5-4347-bf0e-437ea92aedfc",
   "metadata": {},
   "outputs": [
    {
     "name": "stdout",
     "output_type": "stream",
     "text": [
      "Contents of source file is : \n",
      "Name : Aparna C\n",
      "Course : Data Science and Machine Learning\n",
      "Batch : D47\n",
      "\n",
      "Contents of destination file after copying : \n",
      "Name : Aparna C\n",
      "Course : Data Science and Machine Learning\n",
      "Batch : D47\n",
      "\n",
      "Successfully copied the contents of one file to another!!!\n"
     ]
    }
   ],
   "source": [
    "# Exercise 2: Write a Python program to copy the contents of one file to another file\n",
    "print(f\"Contents of source file is : \")\n",
    "with open(\"C:\\\\Users\\\\17010\\\\OneDrive\\\\Desktop\\\\file1.txt\",\"r\") as src:\n",
    "    data = src.read()\n",
    "    print(data)\n",
    "    \n",
    "# writing contents of source file to destination file\n",
    "with open(\"C:\\\\Users\\\\17010\\\\OneDrive\\\\Desktop\\\\destination.txt\", \"w\") as dest:\n",
    "    dest.write(data)\n",
    "    \n",
    "print(f\"Contents of destination file after copying : \")    \n",
    "with open(\"C:\\\\Users\\\\17010\\\\OneDrive\\\\Desktop\\\\destination.txt\",\"r\") as dest:\n",
    "    content = dest.read()\n",
    "    print(content)\n",
    "\n",
    "print(f\"Successfully copied the contents of one file to another!!!\")"
   ]
  },
  {
   "cell_type": "code",
   "execution_count": 3,
   "id": "80ee1140-ced0-4e3e-94b3-ccbd6a8046d8",
   "metadata": {},
   "outputs": [
    {
     "name": "stdout",
     "output_type": "stream",
     "text": [
      "Content of file is : She exercises every morning.\n",
      "Total number of words in file = 4\n"
     ]
    }
   ],
   "source": [
    "# Exercise 3: Write a Python program to read the content of a file and count the total number of words in that file.\n",
    "with open(\"C:\\\\Users\\\\17010\\\\OneDrive\\\\Desktop\\\\sample.txt\",\"r\") as file3:\n",
    "    data = file3.read()\n",
    "    words = data.split()\n",
    "    count = len(words)\n",
    "    print(f\"Content of file is : {data}\")\n",
    "    print(\"Total number of words in file =\",count)"
   ]
  },
  {
   "cell_type": "code",
   "execution_count": 5,
   "id": "49328961-6261-4e32-b5a3-bc2851381616",
   "metadata": {},
   "outputs": [
    {
     "name": "stdin",
     "output_type": "stream",
     "text": [
      "Enter a number : Anagha\n"
     ]
    },
    {
     "name": "stdout",
     "output_type": "stream",
     "text": [
      "Invalid input!! Please enter valid input.\n"
     ]
    }
   ],
   "source": [
    "# Exercise 4: Write a Python program that prompts the user to input a string and converts it to an integer. \n",
    "# Use try-except blocks to handle any exceptions that might occur\n",
    "\n",
    "try:\n",
    "    user_input = input(\"Enter a number :\")\n",
    "    value = int(user_input)\n",
    "    print(f\"Inputted value is an integer : {value}\")\n",
    "except ValueError:\n",
    "    print(f\"Invalid input!! Please enter valid input.\")"
   ]
  },
  {
   "cell_type": "code",
   "execution_count": 6,
   "id": "30e28ee7-921c-486f-9ec5-e3ff0712ce27",
   "metadata": {},
   "outputs": [
    {
     "name": "stdin",
     "output_type": "stream",
     "text": [
      "Enter a list of integers separated by spaces:  2 6 5 4 85\n"
     ]
    },
    {
     "name": "stdout",
     "output_type": "stream",
     "text": [
      "You entered the valid list of integers: [2, 6, 5, 4, 85]\n"
     ]
    }
   ],
   "source": [
    "# Exercise 5: Write a Python program that prompts the user to input a list of integers and raises an exception if any of the integers in the list are negative. \n",
    "\n",
    "try:\n",
    "    user_input = input(\"Enter a list of integers separated by spaces: \")\n",
    "    numbers = list(map(int, user_input.split()))\n",
    "    \n",
    "    for num in numbers:\n",
    "        if num < 0:\n",
    "            raise ValueError(\"Negative numbers are not allowed.\")\n",
    "    \n",
    "    print(f\"You entered the valid list of integers: {numbers}\")\n",
    "except ValueError as e:\n",
    "    print(f\"Error: {e}\")"
   ]
  },
  {
   "cell_type": "code",
   "execution_count": 7,
   "id": "ebb6a995-6f63-4e78-9598-4ba3b7a24785",
   "metadata": {},
   "outputs": [
    {
     "name": "stdin",
     "output_type": "stream",
     "text": [
      "Enter a list of integers seperated by spaces:  5 9 11 12 15 60\n"
     ]
    },
    {
     "name": "stdout",
     "output_type": "stream",
     "text": [
      "Average of numbers = 18.666666666666668\n",
      "The program has finished running!\n"
     ]
    }
   ],
   "source": [
    "# Exercise 6: Write a Python program that prompts the user to input a list of integers and computes the average of those integers. \n",
    "# Use try-except blocks to handle any exceptions that might occur.\n",
    "# Use the finally clause to print a message indicating that the program has finished running.\n",
    "\n",
    "try:\n",
    "    user_input = input(\"Enter a list of integers seperated by spaces: \")\n",
    "    numbers = list(map(int, user_input.split()))\n",
    "    total_numbers = len(numbers)\n",
    "    sum = 0\n",
    "    for i in numbers:\n",
    "        sum = sum + i\n",
    "    average = sum/total_numbers\n",
    "    print(f\"Average of numbers = {average}\")\n",
    "except ValueError:\n",
    "    print(f\"Error: Please enter the valid integers!! \")\n",
    "except ZeroDivisionError:\n",
    "    print(f\"Cannot find the average of an empty list !!!\")\n",
    "finally:\n",
    "    print(f\"The program has finished running!\")"
   ]
  },
  {
   "cell_type": "code",
   "execution_count": null,
   "id": "bc01677f-97e5-4d98-b13f-ac6075177906",
   "metadata": {},
   "outputs": [],
   "source": [
    "# Exercise 7 :  Write a Python program that prompts the user to input a filename and writes a string to that file. \n",
    "# Use try-except blocks to handle any exceptions that might occur and print a welcome message if there is no exception occurred. \n",
    "# Describe the step by step process.\n",
    "\n",
    "try:\n",
    "    # inputting the file path\n",
    "    filename = input(\"Enter the filename path: \")\n",
    "    # inputting the content to be written in the file\n",
    "    content = input(\"Enter the text to write into the file: \")\n",
    "\n",
    "    # writes the content to the file inputted\n",
    "    with open(filename, 'w') as file:\n",
    "        file.write(content)\n",
    "\n",
    "    # reads the content from the file and prints the content\n",
    "    with open(filename, 'r') as file:\n",
    "        data = file.read()\n",
    "        print(f\"Content of file : {data}\")\n",
    "    \n",
    "    print(\"Welcome! The file has been written successfully.\")\n",
    "except Exception as e:     # exception will be raised when invalid content or filename is inputted\n",
    "    print(f\"An error occurred: {e}\")"
   ]
  },
  {
   "cell_type": "code",
   "execution_count": null,
   "id": "d846c00d-547d-491b-88f0-474c239a8a1e",
   "metadata": {},
   "outputs": [],
   "source": []
  }
 ],
 "metadata": {
  "kernelspec": {
   "display_name": "Python 3 (ipykernel)",
   "language": "python",
   "name": "python3"
  },
  "language_info": {
   "codemirror_mode": {
    "name": "ipython",
    "version": 3
   },
   "file_extension": ".py",
   "mimetype": "text/x-python",
   "name": "python",
   "nbconvert_exporter": "python",
   "pygments_lexer": "ipython3",
   "version": "3.12.7"
  }
 },
 "nbformat": 4,
 "nbformat_minor": 5
}
